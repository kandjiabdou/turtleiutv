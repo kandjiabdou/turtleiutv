{
 "cells": [
  {
   "cell_type": "code",
   "execution_count": 1,
   "metadata": {
    "collapsed": true
   },
   "outputs": [],
   "source": [
    "# Here we'll import our Turtle object. This lets us create specific turtles.\n",
    "from turtleIutv import *\n"
   ]
  },
  {
   "cell_type": "code",
   "execution_count": 2,
   "metadata": {},
   "outputs": [
    {
     "name": "stderr",
     "output_type": "stream",
     "text": [
      "Widget Javascript not detected.  It may not be installed or enabled properly.\n"
     ]
    },
    {
     "data": {
      "application/vnd.jupyter.widget-view+json": {
       "model_id": "ed449f0b32734e3d9ac0534a674cd12b"
      }
     },
     "metadata": {},
     "output_type": "display_data"
    }
   ],
   "source": [
    "# We'll create a new turtle like this. It should open a window with our turtle inside.\n",
    "# Before using any turtle function in a cell, you must call this function after importing the turtleIutv module.\n",
    "drawing(turtle = False, width = 500, limit = 1000,color = \"white\")\n",
    "\n",
    "# Here are other example calls:\n",
    "# 1) without parameter\n",
    "drawing()\n",
    "# 2) without parameter named parameter\n",
    "drawing(400,500,\"#F23030\",False)\n",
    "# 3) Only 2 parameters\n",
    "drawing(400,500)\n",
    "# 4) Changing the order of parameters\n",
    "drawing(limit = 1000, turtle = False, width = 500)\n"
   ]
  },
  {
   "cell_type": "markdown",
   "metadata": {},
   "source": [
    "## Controlling your turtle\n",
    "You can control your turtle's speed, position, and whether it draws a line using a few extra commands.\n",
    "\n",
    "Play around with different values below to control the turtle above."
   ]
  },
  {
   "cell_type": "code",
   "execution_count": 3,
   "metadata": {
    "collapsed": true
   },
   "outputs": [],
   "source": [
    "# speed(N) will control the speed of the turtle when it moves (N from 1 - 10)\n",
    "speed(8)"
   ]
  },
  {
   "cell_type": "code",
   "execution_count": 4,
   "metadata": {
    "collapsed": true
   },
   "outputs": [],
   "source": [
    "# up() will \"raise the pen\" meaning the turtle won't draw lines anymore\n",
    "up()"
   ]
  },
  {
   "cell_type": "code",
   "execution_count": 5,
   "metadata": {
    "collapsed": true
   },
   "outputs": [],
   "source": [
    "# And this will \"lower the pen\" so the turtle draws when it moves\n",
    "down()"
   ]
  },
  {
   "cell_type": "code",
   "execution_count": 6,
   "metadata": {
    "collapsed": true
   },
   "outputs": [],
   "source": [
    "# This changes the color of the turtle's path, if the pen is down\n",
    "setColor(\"red\")  # try \"blue\", \"yellow\", \"brown\", \"black\", \"purple\", \"green\""
   ]
  },
  {
   "cell_type": "code",
   "execution_count": null,
   "metadata": {},
   "outputs": [],
   "source": [
    "# Adjusts the thickness of the pen line with the new size value passed in parameter.\n",
    "setSize(10)"
   ]
  },
  {
   "cell_type": "code",
   "execution_count": 7,
   "metadata": {
    "collapsed": true
   },
   "outputs": [],
   "source": [
    "# This will rotate the turtle counter-clockwise\n",
    "left(90)"
   ]
  },
  {
   "cell_type": "code",
   "execution_count": 8,
   "metadata": {
    "collapsed": true
   },
   "outputs": [],
   "source": [
    "# And this rotates the turtle clockwise\n",
    "right(90)"
   ]
  },
  {
   "cell_type": "code",
   "execution_count": 9,
   "metadata": {
    "collapsed": true
   },
   "outputs": [],
   "source": [
    "# This makes the turtle move forward\n",
    "forward(100)"
   ]
  },
  {
   "cell_type": "code",
   "execution_count": null,
   "metadata": {},
   "outputs": [],
   "source": [
    "# This makes the turtle move backward\n",
    "backward(50)"
   ]
  },
  {
   "cell_type": "code",
   "execution_count": null,
   "metadata": {},
   "outputs": [],
   "source": [
    "# Moves the turtle to a position specified by the x and y coordinates. If the turtle is displayed, it first rotates and heads to its end point before moving\n",
    "goto(0,0)"
   ]
  },
  {
   "cell_type": "code",
   "execution_count": null,
   "metadata": {},
   "outputs": [],
   "source": [
    "# Move the turtle to the center of the marker.\n",
    "home()"
   ]
  },
  {
   "cell_type": "code",
   "execution_count": null,
   "metadata": {},
   "outputs": [],
   "source": [
    "# Draw a semicircle of radius 100.\n",
    "circle(100, 180)"
   ]
  },
  {
   "cell_type": "code",
   "execution_count": null,
   "metadata": {},
   "outputs": [],
   "source": [
    "# To draw a figure colored in red and the line in black.\n",
    "begin_fill(\"red\",\"black\")"
   ]
  },
  {
   "cell_type": "code",
   "execution_count": null,
   "metadata": {},
   "outputs": [],
   "source": [
    "# Stop the process of coloring a figure.\n",
    "end_fil()"
   ]
  },
  {
   "cell_type": "code",
   "execution_count": null,
   "metadata": {},
   "outputs": [],
   "source": [
    "# Complete usage example\n",
    "from turtleIutv import *\n",
    "drawing(400,500,\"d\",False)\n",
    "speed(5)\n",
    "colours=[\"red\",\"blue\",\"yellow\",\"brown\",\"black\",\"purple\",\"green\"]\n",
    "up()\n",
    "left(90)\n",
    "forward(250)\n",
    "right(90)\n",
    "down()\n",
    "i = 0\n",
    "while i < 18:\n",
    "    setColor(colours[i%7])\n",
    "    setSize(i%7+1)\n",
    "    speed(i%10+1)\n",
    "    right(20)\n",
    "    forward(100)\n",
    "    i += 1\n",
    "right(90)\n",
    "\n",
    "up()\n",
    "home()\n",
    "down()\n",
    "goto(150, 200)\n",
    "backward(300)\n",
    "home()"
   ]
  }
 ],
 "metadata": {
  "kernelspec": {
   "display_name": "Python 3",
   "language": "python",
   "name": "python3"
  },
  "language_info": {
   "codemirror_mode": {
    "name": "ipython",
    "version": 3
   },
   "file_extension": ".py",
   "mimetype": "text/x-python",
   "name": "python",
   "nbconvert_exporter": "python",
   "pygments_lexer": "ipython3",
   "version": "3.8.8"
  }
 },
 "nbformat": 4,
 "nbformat_minor": 1
}
