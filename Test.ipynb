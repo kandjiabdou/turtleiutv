{
 "cells": [
  {
   "cell_type": "code",
   "execution_count": 1,
   "metadata": {},
   "outputs": [
    {
     "name": "stderr",
     "output_type": "stream",
     "text": [
      ":0: FutureWarning: IPython widgets are experimental and may change in the future.\n"
     ]
    }
   ],
   "source": [
    "from turtleIutv import *\n",
    "drawing(width = 500, limit = 1000, color = \"#D2D1CF\", turtle =True)\n",
    "speed(5)\n",
    "colours=[\"red\",\"blue\",\"yellow\",\"brown\",\"black\",\"purple\",\"green\"]\n",
    "up()\n",
    "left(90)\n",
    "forward(200)\n",
    "right(90)\n",
    "down()\n",
    "i = 0\n",
    "while i < 28:\n",
    "    setColor(colours[i%7])\n",
    "    setSize(i%7)\n",
    "    speed(i%10)\n",
    "    right(13)\n",
    "    forward(50)\n",
    "    i += 1\n",
    "home()\n",
    "begin_fill(\"red\",\"yellow\")\n",
    "circle(100)\n",
    "end_fill()"
   ]
  }
 ],
 "metadata": {
  "kernelspec": {
   "display_name": "Python 3",
   "language": "python",
   "name": "python3"
  },
  "language_info": {
   "codemirror_mode": {
    "name": "ipython",
    "version": 3
   },
   "file_extension": ".py",
   "mimetype": "text/x-python",
   "name": "python",
   "nbconvert_exporter": "python",
   "pygments_lexer": "ipython3",
   "version": "3.8.8"
  }
 },
 "nbformat": 4,
 "nbformat_minor": 1
}
